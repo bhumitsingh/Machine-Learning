{
 "cells": [
  {
   "cell_type": "markdown",
   "metadata": {},
   "source": [
    "### Residual Vector Quantization (RVQ) with learned codebooks using K-Means clustering"
   ]
  },
  {
   "cell_type": "code",
   "execution_count": 1,
   "metadata": {},
   "outputs": [
    {
     "name": "stdout",
     "output_type": "stream",
     "text": [
      "Collecting scikit-learn\n",
      "  Using cached scikit_learn-1.6.1-cp313-cp313-win_amd64.whl.metadata (15 kB)\n",
      "Requirement already satisfied: numpy>=1.19.5 in c:\\users\\bhumi\\documents\\machine-learning\\myenv\\lib\\site-packages (from scikit-learn) (2.2.3)\n",
      "Collecting scipy>=1.6.0 (from scikit-learn)\n",
      "  Using cached scipy-1.15.2-cp313-cp313-win_amd64.whl.metadata (60 kB)\n",
      "Collecting joblib>=1.2.0 (from scikit-learn)\n",
      "  Using cached joblib-1.4.2-py3-none-any.whl.metadata (5.4 kB)\n",
      "Collecting threadpoolctl>=3.1.0 (from scikit-learn)\n",
      "  Using cached threadpoolctl-3.5.0-py3-none-any.whl.metadata (13 kB)\n",
      "Using cached scikit_learn-1.6.1-cp313-cp313-win_amd64.whl (11.1 MB)\n",
      "Using cached joblib-1.4.2-py3-none-any.whl (301 kB)\n",
      "Using cached scipy-1.15.2-cp313-cp313-win_amd64.whl (41.0 MB)\n",
      "Using cached threadpoolctl-3.5.0-py3-none-any.whl (18 kB)\n",
      "Installing collected packages: threadpoolctl, scipy, joblib, scikit-learn\n",
      "Successfully installed joblib-1.4.2 scikit-learn-1.6.1 scipy-1.15.2 threadpoolctl-3.5.0\n"
     ]
    },
    {
     "name": "stderr",
     "output_type": "stream",
     "text": [
      "\n",
      "[notice] A new release of pip is available: 24.3.1 -> 25.0.1\n",
      "[notice] To update, run: python.exe -m pip install --upgrade pip\n"
     ]
    }
   ],
   "source": [
    "! pip install scikit-learn"
   ]
  },
  {
   "cell_type": "code",
   "execution_count": 2,
   "metadata": {},
   "outputs": [],
   "source": [
    "import numpy as np\n",
    "from sklearn.cluster import KMeans"
   ]
  },
  {
   "cell_type": "code",
   "execution_count": 6,
   "metadata": {},
   "outputs": [],
   "source": [
    "class ResidualVectorQuantizer:\n",
    "    def __init__(self, num_stages=3, codebook_size=8, vector_dim=2):\n",
    "        self.num_stages = num_stages\n",
    "        self.codebook_size = codebook_size\n",
    "        self.vector_dim = vector_dim\n",
    "        self.codebooks = [None] * num_stages # Placeholder for learned codebooks\n",
    "\n",
    "    def train(self, X):\n",
    "        \"\"\"\n",
    "        Train the RVQ model using K-Means clustering on residuals.\n",
    "        :param X: A (num_samples, vector_dim) array of input vectors.\n",
    "        \"\"\"\n",
    "        residuals = X.copy()\n",
    "        for stage in range(self.num_stages):\n",
    "            # Train K-Means on residuals\n",
    "            kmeans = KMeans(n_clusters=self.codebook_size, n_init=10, random_state=42)\n",
    "            kmeans.fit(residuals)\n",
    "            self.codebooks[stage] = kmeans.cluster_centers_\n",
    "\n",
    "            # Find the closest codebook vector for each input\n",
    "            indices = kmeans.predict(residuals)\n",
    "\n",
    "            # Update residuals\n",
    "            residuals -= self.codebooks[stage][indices]\n",
    "\n",
    "    def quantize(self, x):\n",
    "        \"\"\"\n",
    "        Quantizes a single input vector using trained cookbooks.\n",
    "        :param x: A vector of shape (vector_dim,)\n",
    "        :return: List of quantized vectors and indices\n",
    "        \"\"\"\n",
    "        residual = x.copy()\n",
    "        quantized_vectors = []\n",
    "        indices = []\n",
    "\n",
    "        for stage in range(self.num_stages):\n",
    "            # Compute distances and find the nearest codebook vector\n",
    "            distances = np.linalg.norm(self.codebooks[stage] - residual, axis=1)\n",
    "            best_match_idx = np.argmin(distances)\n",
    "            quantized_vector = self.codebooks[stage][best_match_idx]\n",
    "\n",
    "            # Update residual\n",
    "            residual -= quantized_vector\n",
    "\n",
    "            # Store quantized vector and its index\n",
    "            quantized_vectors.append(quantized_vector)\n",
    "            indices.append(best_match_idx)\n",
    "\n",
    "        return quantized_vectors, indices\n",
    "\n",
    "    def reconstruct(self, indices):\n",
    "        \"\"\"\n",
    "        Reconstructs a vector using stored indices.\n",
    "        :param indices: List of indices for each stage\n",
    "        :return: Reconstructed vector\n",
    "        \"\"\"\n",
    "        return sum(self.codebooks[stage][indices[stage]] for stage in range(self.num_stages))"
   ]
  },
  {
   "cell_type": "code",
   "execution_count": 14,
   "metadata": {},
   "outputs": [
    {
     "name": "stdout",
     "output_type": "stream",
     "text": [
      "Original Vector: [ 2.5 -1.3]\n",
      "Reconstructed Vector: [1.00895996 0.01655394]\n",
      "Residual Error: 1.989098959345546\n"
     ]
    }
   ],
   "source": [
    "# ----------------Testing the RVQ model----------------\n",
    "# Generate synthetic dataset (1000 samples, 2 dimensions)\n",
    "np.random.seed(42)\n",
    "X_train = np.random.rand(10000, 2) # Sample input data\n",
    "\n",
    "# Train the RVQ model\n",
    "rvq = ResidualVectorQuantizer(num_stages=5, codebook_size=256, vector_dim=2)\n",
    "rvq.train(X_train)\n",
    "\n",
    "# Test the RVQ model\n",
    "x = np.array([2.5, -1.3]) # Test input vector\n",
    "quantized_vectors, indices = rvq.quantize(x)\n",
    "reconstructed_x = rvq.reconstruct(indices)\n",
    "\n",
    "# Print results\n",
    "print(f\"Original Vector: {x}\")\n",
    "print(f\"Reconstructed Vector: {reconstructed_x}\")\n",
    "print(f\"Residual Error: {np.linalg.norm(x - reconstructed_x)}\")"
   ]
  }
 ],
 "metadata": {
  "kernelspec": {
   "display_name": "myenv",
   "language": "python",
   "name": "python3"
  },
  "language_info": {
   "codemirror_mode": {
    "name": "ipython",
    "version": 3
   },
   "file_extension": ".py",
   "mimetype": "text/x-python",
   "name": "python",
   "nbconvert_exporter": "python",
   "pygments_lexer": "ipython3",
   "version": "3.13.2"
  }
 },
 "nbformat": 4,
 "nbformat_minor": 2
}
