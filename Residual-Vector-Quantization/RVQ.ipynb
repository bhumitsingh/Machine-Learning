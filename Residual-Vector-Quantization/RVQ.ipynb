{
 "cells": [
  {
   "cell_type": "markdown",
   "metadata": {},
   "source": [
    "# Residual Vector Quantization\n",
    " Residual Vector Quantization (RVQ) is a hierarchical vector quantization technique where a signal is approximated using multiple stages of quantization, with each stage refining the residual error left by the previous stage. It is particularly useful for efficient data compression, feature representation, and neural network quantization."
   ]
  },
  {
   "cell_type": "code",
   "execution_count": 2,
   "metadata": {},
   "outputs": [
    {
     "name": "stdout",
     "output_type": "stream",
     "text": [
      "Collecting numpy\n",
      "  Using cached numpy-2.2.3-cp313-cp313-win_amd64.whl.metadata (60 kB)\n",
      "Using cached numpy-2.2.3-cp313-cp313-win_amd64.whl (12.6 MB)\n",
      "Installing collected packages: numpy\n",
      "Successfully installed numpy-2.2.3\n"
     ]
    },
    {
     "name": "stderr",
     "output_type": "stream",
     "text": [
      "\n",
      "[notice] A new release of pip is available: 24.3.1 -> 25.0.1\n",
      "[notice] To update, run: python.exe -m pip install --upgrade pip\n"
     ]
    }
   ],
   "source": [
    "! pip install numpy"
   ]
  },
  {
   "cell_type": "code",
   "execution_count": 3,
   "metadata": {},
   "outputs": [],
   "source": [
    "import numpy as np"
   ]
  },
  {
   "cell_type": "markdown",
   "metadata": {},
   "source": [
    "# RVQ Class\n",
    "The class initailizes an RVQ system with:\n",
    "- num_stages : Number of refinement steps.\n",
    "- codebook_size : Number of vectors in each stage's codebook.\n",
    "- vector_dim : Dimensionality of the vectors.\n",
    "\n",
    "Random codebooks are generated for each stage, using np.random.radn()"
   ]
  },
  {
   "cell_type": "code",
   "execution_count": 8,
   "metadata": {},
   "outputs": [],
   "source": [
    "class ResidualVectorQuantizer:\n",
    "    def __init__(self, num_stages=3, codebook_size=8, vector_dim=2):\n",
    "        self.num_stages = num_stages\n",
    "        self.codebook_size = codebook_size\n",
    "        self.vector_dim = vector_dim\n",
    "        self.codebooks = [np.random.randn(codebook_size,vector_dim) for _ in range(num_stages)]"
   ]
  },
  {
   "cell_type": "markdown",
   "metadata": {},
   "source": [
    "# Quantizing the Input Vector\n",
    "1. Initialize the residual as the input vector x.\n",
    "2. Loop through each stage of refinement:\n",
    "    - Find the best-matching codebook vector by computing the Euclidean distance.\n",
    "    - Store the index (best_match_idx) and subtract the quantized vector from the residual.\n",
    "3. Return the quantized vectors and their corresponding indices.\n"
   ]
  },
  {
   "cell_type": "code",
   "execution_count": 15,
   "metadata": {},
   "outputs": [],
   "source": [
    "class ResidualVectorQuantizer:\n",
    "    def __init__(self, num_stages=3, codebook_size=8, vector_dim=2):\n",
    "        self.num_stages = num_stages\n",
    "        self.codebook_size = codebook_size\n",
    "        self.vector_dim = vector_dim\n",
    "        self.codebooks = [np.random.randn(codebook_size,vector_dim) for _ in range(num_stages)]\n",
    "        \n",
    "    def quantize(self, x):\n",
    "        residual = x\n",
    "        quantized_vectors =[]\n",
    "        indices = []\n",
    "        \n",
    "        for stage in range(self.num_stages):\n",
    "            codebook = self.codebooks[stage]\n",
    "            distances = np.linalg.norm(residual - codebook, axis=1)\n",
    "            best_match_idx = np.argmin(distances, axis=0)\n",
    "\n",
    "            quantized_vector = codebook[best_match_idx]\n",
    "            residual -= quantized_vector\n",
    "\n",
    "            quantized_vectors.append(quantized_vector)\n",
    "            indices.append(best_match_idx)\n",
    "\n",
    "        return quantized_vectors, indices"
   ]
  },
  {
   "cell_type": "markdown",
   "metadata": {},
   "source": [
    "# Reconstructing the Vector\n",
    "- The original input vector is reconstructed by summing the selected vectors from each stage.\n",
    "- This approximates the original input but may have some residual error."
   ]
  },
  {
   "cell_type": "code",
   "execution_count": 20,
   "metadata": {},
   "outputs": [],
   "source": [
    "class ResidualVectorQuantizer:\n",
    "    def __init__(self, num_stages=3, codebook_size=8, vector_dim=2):\n",
    "        self.num_stages = num_stages\n",
    "        self.codebook_size = codebook_size\n",
    "        self.vector_dim = vector_dim\n",
    "        self.codebooks = [np.random.randn(codebook_size,vector_dim) for _ in range(num_stages)]\n",
    "        \n",
    "    def quantize(self, x):\n",
    "        residual = x\n",
    "        quantized_vectors =[]\n",
    "        indices = []\n",
    "        \n",
    "        for stage in range(self.num_stages):\n",
    "            codebook = self.codebooks[stage]\n",
    "            distances = np.linalg.norm(residual - codebook, axis=1)\n",
    "            best_match_idx = np.argmin(distances, axis=0)\n",
    "\n",
    "            quantized_vector = codebook[best_match_idx]\n",
    "            residual -= quantized_vector\n",
    "\n",
    "            quantized_vectors.append(quantized_vector)\n",
    "            indices.append(best_match_idx)\n",
    "\n",
    "        return quantized_vectors, indices\n",
    "\n",
    "    def reconstruct(self, indices):\n",
    "        reconstructed = np.zeros(self.vector_dim)  # Start with zero vector\n",
    "        for stage in range(self.num_stages):\n",
    "            reconstructed += self.codebooks[stage][indices[stage]]  # Add each stage's quantized vector\n",
    "        return reconstructed"
   ]
  },
  {
   "cell_type": "markdown",
   "metadata": {},
   "source": [
    "# Testing the RVQ Implementation"
   ]
  },
  {
   "cell_type": "code",
   "execution_count": 21,
   "metadata": {},
   "outputs": [
    {
     "name": "stdout",
     "output_type": "stream",
     "text": [
      "Original vector: [ 0.24182299 -0.33086157]\n",
      "Reconstructed Vector: [ 2.25817701 -0.96913843]\n",
      "Residual Error: 2.114965933504104\n"
     ]
    }
   ],
   "source": [
    "# Test RVQ\n",
    "rvq = ResidualVectorQuantizer(num_stages=3, codebook_size=8, vector_dim=2)\n",
    "\n",
    "# Generate a random input vector\n",
    "x = np.array([2.5, -1.3]) # Example 2D vector\n",
    "\n",
    "# Apply quantization\n",
    "quantized_vectors, indices = rvq.quantize(x)\n",
    "\n",
    "# Reconstruct the vector\n",
    "reconstructed_x = rvq.reconstruct(indices)\n",
    "\n",
    "# Print the results\n",
    "print(f\"Original vector: {x}\")\n",
    "print(f\"Reconstructed Vector: {reconstructed_x}\")\n",
    "print(f\"Residual Error: {np.linalg.norm(x - reconstructed_x)}\")"
   ]
  },
  {
   "cell_type": "markdown",
   "metadata": {},
   "source": [
    "NOTE : The residual error is large (Residual_Error>>0) because the codebooks are randomly generated. This is a common issue when using random codebooks. To improve the performance, K-means can be used to train cookbooks."
   ]
  }
 ],
 "metadata": {
  "kernelspec": {
   "display_name": "myenv",
   "language": "python",
   "name": "python3"
  },
  "language_info": {
   "codemirror_mode": {
    "name": "ipython",
    "version": 3
   },
   "file_extension": ".py",
   "mimetype": "text/x-python",
   "name": "python",
   "nbconvert_exporter": "python",
   "pygments_lexer": "ipython3",
   "version": "3.13.2"
  }
 },
 "nbformat": 4,
 "nbformat_minor": 2
}
